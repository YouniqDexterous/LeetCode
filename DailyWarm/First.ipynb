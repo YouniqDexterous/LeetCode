def first():

  return 1


def main():
  print(first())

main()

